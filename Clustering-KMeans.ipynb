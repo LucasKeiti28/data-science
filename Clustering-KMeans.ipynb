{
 "cells": [
  {
   "cell_type": "markdown",
   "metadata": {},
   "source": [
    "# Clustering Model with KMeans"
   ]
  },
  {
   "cell_type": "markdown",
   "metadata": {},
   "source": [
    "## Clustering customer by power consumption"
   ]
  },
  {
   "cell_type": "code",
   "execution_count": 44,
   "metadata": {
    "ExecuteTime": {
     "end_time": "2020-11-17T18:18:10.702526Z",
     "start_time": "2020-11-17T18:18:10.693854Z"
    }
   },
   "outputs": [],
   "source": [
    "# Imports\n",
    "import pandas as pd \n",
    "import numpy as np \n",
    "import matplotlib.pyplot as plt \n",
    "from matplotlib import pylab \n",
    "from sklearn.model_selection import train_test_split\n",
    "from sklearn.decomposition import PCA\n",
    "from sklearn.cluster import KMeans\n",
    "from scipy.spatial.distance import cdist, pdist\n",
    "from sklearn.metrics import silhouette_score\n",
    "import warnings\n",
    "warnings.filterwarnings(\"ignore\")\n",
    "%matplotlib inline"
   ]
  },
  {
   "cell_type": "markdown",
   "metadata": {},
   "source": [
    "dataset source: UCI Machine Learnin Repository\n",
    "https://archive.ics.uci.edu/ml/datasets/individual+household+electric+power+consumption"
   ]
  },
  {
   "cell_type": "code",
   "execution_count": 12,
   "metadata": {
    "ExecuteTime": {
     "end_time": "2020-11-17T17:45:45.671019Z",
     "start_time": "2020-11-17T17:45:44.269035Z"
    }
   },
   "outputs": [],
   "source": [
    "# Loading Data\n",
    "dataset = pd.read_csv('../dados/household_power_consumption.txt', delimiter=\";\", low_memory=False)"
   ]
  },
  {
   "cell_type": "code",
   "execution_count": 13,
   "metadata": {
    "ExecuteTime": {
     "end_time": "2020-11-17T17:45:46.134117Z",
     "start_time": "2020-11-17T17:45:46.124436Z"
    }
   },
   "outputs": [
    {
     "data": {
      "text/html": [
       "<div>\n",
       "<style scoped>\n",
       "    .dataframe tbody tr th:only-of-type {\n",
       "        vertical-align: middle;\n",
       "    }\n",
       "\n",
       "    .dataframe tbody tr th {\n",
       "        vertical-align: top;\n",
       "    }\n",
       "\n",
       "    .dataframe thead th {\n",
       "        text-align: right;\n",
       "    }\n",
       "</style>\n",
       "<table border=\"1\" class=\"dataframe\">\n",
       "  <thead>\n",
       "    <tr style=\"text-align: right;\">\n",
       "      <th></th>\n",
       "      <th>Date</th>\n",
       "      <th>Time</th>\n",
       "      <th>Global_active_power</th>\n",
       "      <th>Global_reactive_power</th>\n",
       "      <th>Voltage</th>\n",
       "      <th>Global_intensity</th>\n",
       "      <th>Sub_metering_1</th>\n",
       "      <th>Sub_metering_2</th>\n",
       "      <th>Sub_metering_3</th>\n",
       "    </tr>\n",
       "  </thead>\n",
       "  <tbody>\n",
       "    <tr>\n",
       "      <th>0</th>\n",
       "      <td>16/12/2006</td>\n",
       "      <td>17:24:00</td>\n",
       "      <td>4.216</td>\n",
       "      <td>0.418</td>\n",
       "      <td>234.840</td>\n",
       "      <td>18.400</td>\n",
       "      <td>0.000</td>\n",
       "      <td>1.000</td>\n",
       "      <td>17.0</td>\n",
       "    </tr>\n",
       "    <tr>\n",
       "      <th>1</th>\n",
       "      <td>16/12/2006</td>\n",
       "      <td>17:25:00</td>\n",
       "      <td>5.360</td>\n",
       "      <td>0.436</td>\n",
       "      <td>233.630</td>\n",
       "      <td>23.000</td>\n",
       "      <td>0.000</td>\n",
       "      <td>1.000</td>\n",
       "      <td>16.0</td>\n",
       "    </tr>\n",
       "    <tr>\n",
       "      <th>2</th>\n",
       "      <td>16/12/2006</td>\n",
       "      <td>17:26:00</td>\n",
       "      <td>5.374</td>\n",
       "      <td>0.498</td>\n",
       "      <td>233.290</td>\n",
       "      <td>23.000</td>\n",
       "      <td>0.000</td>\n",
       "      <td>2.000</td>\n",
       "      <td>17.0</td>\n",
       "    </tr>\n",
       "    <tr>\n",
       "      <th>3</th>\n",
       "      <td>16/12/2006</td>\n",
       "      <td>17:27:00</td>\n",
       "      <td>5.388</td>\n",
       "      <td>0.502</td>\n",
       "      <td>233.740</td>\n",
       "      <td>23.000</td>\n",
       "      <td>0.000</td>\n",
       "      <td>1.000</td>\n",
       "      <td>17.0</td>\n",
       "    </tr>\n",
       "    <tr>\n",
       "      <th>4</th>\n",
       "      <td>16/12/2006</td>\n",
       "      <td>17:28:00</td>\n",
       "      <td>3.666</td>\n",
       "      <td>0.528</td>\n",
       "      <td>235.680</td>\n",
       "      <td>15.800</td>\n",
       "      <td>0.000</td>\n",
       "      <td>1.000</td>\n",
       "      <td>17.0</td>\n",
       "    </tr>\n",
       "  </tbody>\n",
       "</table>\n",
       "</div>"
      ],
      "text/plain": [
       "         Date      Time Global_active_power Global_reactive_power  Voltage  \\\n",
       "0  16/12/2006  17:24:00               4.216                 0.418  234.840   \n",
       "1  16/12/2006  17:25:00               5.360                 0.436  233.630   \n",
       "2  16/12/2006  17:26:00               5.374                 0.498  233.290   \n",
       "3  16/12/2006  17:27:00               5.388                 0.502  233.740   \n",
       "4  16/12/2006  17:28:00               3.666                 0.528  235.680   \n",
       "\n",
       "  Global_intensity Sub_metering_1 Sub_metering_2  Sub_metering_3  \n",
       "0           18.400          0.000          1.000            17.0  \n",
       "1           23.000          0.000          1.000            16.0  \n",
       "2           23.000          0.000          2.000            17.0  \n",
       "3           23.000          0.000          1.000            17.0  \n",
       "4           15.800          0.000          1.000            17.0  "
      ]
     },
     "execution_count": 13,
     "metadata": {},
     "output_type": "execute_result"
    }
   ],
   "source": [
    "dataset.head()"
   ]
  },
  {
   "cell_type": "code",
   "execution_count": 14,
   "metadata": {
    "ExecuteTime": {
     "end_time": "2020-11-17T17:45:47.159079Z",
     "start_time": "2020-11-17T17:45:47.155717Z"
    }
   },
   "outputs": [
    {
     "data": {
      "text/plain": [
       "(2075259, 9)"
      ]
     },
     "execution_count": 14,
     "metadata": {},
     "output_type": "execute_result"
    }
   ],
   "source": [
    "dataset.shape"
   ]
  },
  {
   "cell_type": "code",
   "execution_count": 15,
   "metadata": {
    "ExecuteTime": {
     "end_time": "2020-11-17T17:45:47.828591Z",
     "start_time": "2020-11-17T17:45:47.824731Z"
    }
   },
   "outputs": [
    {
     "data": {
      "text/plain": [
       "Date                      object\n",
       "Time                      object\n",
       "Global_active_power       object\n",
       "Global_reactive_power     object\n",
       "Voltage                   object\n",
       "Global_intensity          object\n",
       "Sub_metering_1            object\n",
       "Sub_metering_2            object\n",
       "Sub_metering_3           float64\n",
       "dtype: object"
      ]
     },
     "execution_count": 15,
     "metadata": {},
     "output_type": "execute_result"
    }
   ],
   "source": [
    "dataset.dtypes"
   ]
  },
  {
   "cell_type": "markdown",
   "metadata": {},
   "source": [
    "### Checking if exists null values"
   ]
  },
  {
   "cell_type": "code",
   "execution_count": 16,
   "metadata": {
    "ExecuteTime": {
     "end_time": "2020-11-17T17:45:49.112015Z",
     "start_time": "2020-11-17T17:45:48.631636Z"
    }
   },
   "outputs": [
    {
     "data": {
      "text/plain": [
       "True"
      ]
     },
     "execution_count": 16,
     "metadata": {},
     "output_type": "execute_result"
    }
   ],
   "source": [
    "# Checking if exists null values\n",
    "dataset.isnull().values.any()"
   ]
  },
  {
   "cell_type": "code",
   "execution_count": 18,
   "metadata": {
    "ExecuteTime": {
     "end_time": "2020-11-17T17:46:07.263521Z",
     "start_time": "2020-11-17T17:46:06.668124Z"
    }
   },
   "outputs": [],
   "source": [
    "# > 5% of missing values use imputation\n",
    "# > 5% of missing values we can remove missing values\n",
    "\n",
    "# Removing registers with missing value and first/second column\n",
    "dataset = dataset.iloc[0:, 2:9].dropna()"
   ]
  },
  {
   "cell_type": "code",
   "execution_count": 19,
   "metadata": {
    "ExecuteTime": {
     "end_time": "2020-11-17T17:46:13.009429Z",
     "start_time": "2020-11-17T17:46:13.006593Z"
    }
   },
   "outputs": [
    {
     "data": {
      "text/plain": [
       "(2049280, 7)"
      ]
     },
     "execution_count": 19,
     "metadata": {},
     "output_type": "execute_result"
    }
   ],
   "source": [
    "dataset.shape"
   ]
  },
  {
   "cell_type": "code",
   "execution_count": 20,
   "metadata": {
    "ExecuteTime": {
     "end_time": "2020-11-17T17:46:26.330996Z",
     "start_time": "2020-11-17T17:46:26.322781Z"
    }
   },
   "outputs": [
    {
     "data": {
      "text/html": [
       "<div>\n",
       "<style scoped>\n",
       "    .dataframe tbody tr th:only-of-type {\n",
       "        vertical-align: middle;\n",
       "    }\n",
       "\n",
       "    .dataframe tbody tr th {\n",
       "        vertical-align: top;\n",
       "    }\n",
       "\n",
       "    .dataframe thead th {\n",
       "        text-align: right;\n",
       "    }\n",
       "</style>\n",
       "<table border=\"1\" class=\"dataframe\">\n",
       "  <thead>\n",
       "    <tr style=\"text-align: right;\">\n",
       "      <th></th>\n",
       "      <th>Global_active_power</th>\n",
       "      <th>Global_reactive_power</th>\n",
       "      <th>Voltage</th>\n",
       "      <th>Global_intensity</th>\n",
       "      <th>Sub_metering_1</th>\n",
       "      <th>Sub_metering_2</th>\n",
       "      <th>Sub_metering_3</th>\n",
       "    </tr>\n",
       "  </thead>\n",
       "  <tbody>\n",
       "    <tr>\n",
       "      <th>0</th>\n",
       "      <td>4.216</td>\n",
       "      <td>0.418</td>\n",
       "      <td>234.840</td>\n",
       "      <td>18.400</td>\n",
       "      <td>0.000</td>\n",
       "      <td>1.000</td>\n",
       "      <td>17.0</td>\n",
       "    </tr>\n",
       "    <tr>\n",
       "      <th>1</th>\n",
       "      <td>5.360</td>\n",
       "      <td>0.436</td>\n",
       "      <td>233.630</td>\n",
       "      <td>23.000</td>\n",
       "      <td>0.000</td>\n",
       "      <td>1.000</td>\n",
       "      <td>16.0</td>\n",
       "    </tr>\n",
       "    <tr>\n",
       "      <th>2</th>\n",
       "      <td>5.374</td>\n",
       "      <td>0.498</td>\n",
       "      <td>233.290</td>\n",
       "      <td>23.000</td>\n",
       "      <td>0.000</td>\n",
       "      <td>2.000</td>\n",
       "      <td>17.0</td>\n",
       "    </tr>\n",
       "    <tr>\n",
       "      <th>3</th>\n",
       "      <td>5.388</td>\n",
       "      <td>0.502</td>\n",
       "      <td>233.740</td>\n",
       "      <td>23.000</td>\n",
       "      <td>0.000</td>\n",
       "      <td>1.000</td>\n",
       "      <td>17.0</td>\n",
       "    </tr>\n",
       "    <tr>\n",
       "      <th>4</th>\n",
       "      <td>3.666</td>\n",
       "      <td>0.528</td>\n",
       "      <td>235.680</td>\n",
       "      <td>15.800</td>\n",
       "      <td>0.000</td>\n",
       "      <td>1.000</td>\n",
       "      <td>17.0</td>\n",
       "    </tr>\n",
       "  </tbody>\n",
       "</table>\n",
       "</div>"
      ],
      "text/plain": [
       "  Global_active_power Global_reactive_power  Voltage Global_intensity  \\\n",
       "0               4.216                 0.418  234.840           18.400   \n",
       "1               5.360                 0.436  233.630           23.000   \n",
       "2               5.374                 0.498  233.290           23.000   \n",
       "3               5.388                 0.502  233.740           23.000   \n",
       "4               3.666                 0.528  235.680           15.800   \n",
       "\n",
       "  Sub_metering_1 Sub_metering_2  Sub_metering_3  \n",
       "0          0.000          1.000            17.0  \n",
       "1          0.000          1.000            16.0  \n",
       "2          0.000          2.000            17.0  \n",
       "3          0.000          1.000            17.0  \n",
       "4          0.000          1.000            17.0  "
      ]
     },
     "execution_count": 20,
     "metadata": {},
     "output_type": "execute_result"
    }
   ],
   "source": [
    "dataset.head()"
   ]
  },
  {
   "cell_type": "code",
   "execution_count": 21,
   "metadata": {
    "ExecuteTime": {
     "end_time": "2020-11-17T17:46:34.403691Z",
     "start_time": "2020-11-17T17:46:34.031916Z"
    }
   },
   "outputs": [
    {
     "data": {
      "text/plain": [
       "False"
      ]
     },
     "execution_count": 21,
     "metadata": {},
     "output_type": "execute_result"
    }
   ],
   "source": [
    "# Checking if exists null values\n",
    "dataset.isnull().values.any()"
   ]
  },
  {
   "cell_type": "markdown",
   "metadata": {},
   "source": [
    "### Collecting 1% of total dataset"
   ]
  },
  {
   "cell_type": "code",
   "execution_count": 23,
   "metadata": {
    "ExecuteTime": {
     "end_time": "2020-11-17T17:48:33.155076Z",
     "start_time": "2020-11-17T17:48:32.941541Z"
    }
   },
   "outputs": [
    {
     "name": "stdout",
     "output_type": "stream",
     "text": [
      "<class 'numpy.ndarray'>\n"
     ]
    },
    {
     "data": {
      "text/plain": [
       "array([['4.216', '0.418', '234.840', ..., '0.000', '1.000', 17.0],\n",
       "       ['5.360', '0.436', '233.630', ..., '0.000', '1.000', 16.0],\n",
       "       ['5.374', '0.498', '233.290', ..., '0.000', '2.000', 17.0],\n",
       "       ...,\n",
       "       ['0.938', '0.000', '239.820', ..., '0.000', '0.000', 0.0],\n",
       "       ['0.934', '0.000', '239.700', ..., '0.000', '0.000', 0.0],\n",
       "       ['0.932', '0.000', '239.550', ..., '0.000', '0.000', 0.0]],\n",
       "      dtype=object)"
      ]
     },
     "execution_count": 23,
     "metadata": {},
     "output_type": "execute_result"
    }
   ],
   "source": [
    "# Getting values of dataset\n",
    "dataset_atrib = dataset.values\n",
    "print(type(dataset_atrib))\n",
    "dataset_atrib"
   ]
  },
  {
   "cell_type": "code",
   "execution_count": 25,
   "metadata": {
    "ExecuteTime": {
     "end_time": "2020-11-17T17:50:24.712531Z",
     "start_time": "2020-11-17T17:50:23.071363Z"
    }
   },
   "outputs": [],
   "source": [
    "# Colletcting a sample with 1% of total data\n",
    "amostra1, amostra2 = train_test_split(dataset_atrib, train_size = 0.01)"
   ]
  },
  {
   "cell_type": "code",
   "execution_count": 26,
   "metadata": {
    "ExecuteTime": {
     "end_time": "2020-11-17T17:50:48.157941Z",
     "start_time": "2020-11-17T17:50:48.154055Z"
    }
   },
   "outputs": [
    {
     "data": {
      "text/plain": [
       "(20492, 7)"
      ]
     },
     "execution_count": 26,
     "metadata": {},
     "output_type": "execute_result"
    }
   ],
   "source": [
    "amostra1.shape"
   ]
  },
  {
   "cell_type": "markdown",
   "metadata": {},
   "source": [
    "### Find the best k value to dataset"
   ]
  },
  {
   "cell_type": "code",
   "execution_count": 36,
   "metadata": {
    "ExecuteTime": {
     "end_time": "2020-11-17T18:09:46.646634Z",
     "start_time": "2020-11-17T18:09:46.598437Z"
    }
   },
   "outputs": [
    {
     "data": {
      "text/plain": [
       "(20492, 2)"
      ]
     },
     "execution_count": 36,
     "metadata": {},
     "output_type": "execute_result"
    }
   ],
   "source": [
    "# Applying dimension reduction with Principal Component Analysis\n",
    "pca = PCA(n_components = 2).fit_transform(amostra1)\n",
    "pca.shape"
   ]
  },
  {
   "cell_type": "code",
   "execution_count": 37,
   "metadata": {
    "ExecuteTime": {
     "end_time": "2020-11-17T18:10:44.041372Z",
     "start_time": "2020-11-17T18:10:44.038635Z"
    }
   },
   "outputs": [],
   "source": [
    "# Calculating the best value of k\n",
    "k_range = range(1,12)"
   ]
  },
  {
   "cell_type": "code",
   "execution_count": 39,
   "metadata": {
    "ExecuteTime": {
     "end_time": "2020-11-17T18:12:32.790123Z",
     "start_time": "2020-11-17T18:12:31.165318Z"
    }
   },
   "outputs": [],
   "source": [
    "# Applying K-means algorithm to each value of k\n",
    "k_means_var = [KMeans(n_clusters=k).fit(pca) for k in k_range]"
   ]
  },
  {
   "cell_type": "code",
   "execution_count": 41,
   "metadata": {
    "ExecuteTime": {
     "end_time": "2020-11-17T18:14:07.488631Z",
     "start_time": "2020-11-17T18:14:07.483078Z"
    }
   },
   "outputs": [
    {
     "name": "stdout",
     "output_type": "stream",
     "text": [
      "[KMeans(n_clusters=1), KMeans(n_clusters=2), KMeans(n_clusters=3), KMeans(n_clusters=4), KMeans(n_clusters=5), KMeans(n_clusters=6), KMeans(n_clusters=7), KMeans(), KMeans(n_clusters=9), KMeans(n_clusters=10), KMeans(n_clusters=11)]\n"
     ]
    }
   ],
   "source": [
    "print(k_means_var)"
   ]
  },
  {
   "cell_type": "code",
   "execution_count": 42,
   "metadata": {
    "ExecuteTime": {
     "end_time": "2020-11-17T18:15:28.106221Z",
     "start_time": "2020-11-17T18:15:28.102810Z"
    }
   },
   "outputs": [],
   "source": [
    "# Adjusting centroids to each model creted (with different k values)\n",
    "centroids = [ W.cluster_centers_ for W in k_means_var]"
   ]
  },
  {
   "cell_type": "code",
   "execution_count": 43,
   "metadata": {
    "ExecuteTime": {
     "end_time": "2020-11-17T18:15:34.078360Z",
     "start_time": "2020-11-17T18:15:34.069545Z"
    }
   },
   "outputs": [
    {
     "name": "stdout",
     "output_type": "stream",
     "text": [
      "[array([[-3.35921457e-13, -2.40448600e-13]]), array([[11.9148622 , -2.39541748],\n",
      "       [-6.34686975,  1.27600324]]), array([[-6.63802259,  0.67333159],\n",
      "       [10.88438056, -4.87674247],\n",
      "       [16.59532609, 24.30621121]]), array([[10.86646145, -4.90473508],\n",
      "       [-6.65955891,  0.63003711],\n",
      "       [ 5.53348905, 26.28756509],\n",
      "       [23.0172378 , 21.95136608]]), array([[-6.66663226,  0.61599995],\n",
      "       [10.8443683 , -4.94930052],\n",
      "       [21.82410266, 19.23794496],\n",
      "       [ 4.54924298, 24.15816464],\n",
      "       [25.31495091, 41.02802021]]), array([[-6.67055078,  0.61598505],\n",
      "       [14.69765461, -3.14694676],\n",
      "       [ 4.48382541, 24.10559061],\n",
      "       [25.30326695, 41.14061534],\n",
      "       [22.0621042 , 19.971648  ],\n",
      "       [10.0763376 , -5.24657433]]), array([[15.16971961, -2.97505866],\n",
      "       [-6.70672596,  0.62375139],\n",
      "       [25.30326695, 41.14061534],\n",
      "       [22.08373772, 20.03787348],\n",
      "       [ 4.48382541, 24.10559061],\n",
      "       [ 3.59113323, -2.87664024],\n",
      "       [10.58319835, -5.34050249]]), array([[-4.01129568,  2.58769426],\n",
      "       [23.58083175, 23.79340768],\n",
      "       [14.4431679 , -3.76474449],\n",
      "       [ 4.89763112, 25.02557932],\n",
      "       [-7.0200691 ,  0.36669178],\n",
      "       [26.00136346, 42.35358955],\n",
      "       [19.06746088, 12.53716094],\n",
      "       [10.05863318, -5.26447819]]), array([[-6.72058249,  0.59569795],\n",
      "       [10.9343701 , -5.02457842],\n",
      "       [23.62595627, 23.73036161],\n",
      "       [ 7.31348125, 30.42645184],\n",
      "       [18.86148662, 12.07111356],\n",
      "       [ 3.5987696 , -2.88059805],\n",
      "       [27.39696329, 42.48441867],\n",
      "       [ 1.69404432, 17.72400276],\n",
      "       [20.8726866 , -8.61391004]]), array([[-7.06083211,  0.33478678],\n",
      "       [14.75375512, -3.69207972],\n",
      "       [23.6333084 , 23.76777619],\n",
      "       [ 7.35688316, 30.52174198],\n",
      "       [10.54042262, -5.37347842],\n",
      "       [ 1.88130933, 18.14746222],\n",
      "       [27.39696329, 42.48441867],\n",
      "       [ 3.70529057, -3.04415315],\n",
      "       [-4.5707048 ,  2.25125457],\n",
      "       [19.11066341, 12.62667209]]), array([[-7.06407843,  0.33197796],\n",
      "       [12.94369225, -3.0301319 ],\n",
      "       [ 7.3653955 , 30.55532432],\n",
      "       [19.14624828, 12.64926001],\n",
      "       [-4.59171776,  2.23693823],\n",
      "       [ 1.89800881, 18.17304871],\n",
      "       [23.6333084 , 23.76777619],\n",
      "       [10.42724493, -5.50794687],\n",
      "       [20.95595084, -8.82447469],\n",
      "       [ 3.68668028, -3.06288626],\n",
      "       [27.39696329, 42.48441867]])]\n"
     ]
    }
   ],
   "source": [
    "print(centroids)"
   ]
  },
  {
   "cell_type": "code",
   "execution_count": 52,
   "metadata": {
    "ExecuteTime": {
     "end_time": "2020-11-17T18:23:40.608027Z",
     "start_time": "2020-11-17T18:23:40.582732Z"
    }
   },
   "outputs": [],
   "source": [
    "# Calculate Euclidean distance between each point from the centroids (the minimal distance)\n",
    "k_euclid = [ cdist(pca, cent, 'euclidean') for cent in centroids ]\n",
    "dist = [ np.min(ke, axis = 1) for ke in k_euclid ]"
   ]
  },
  {
   "cell_type": "code",
   "execution_count": 53,
   "metadata": {
    "ExecuteTime": {
     "end_time": "2020-11-17T18:25:14.466971Z",
     "start_time": "2020-11-17T18:25:14.425744Z"
    }
   },
   "outputs": [
    {
     "data": {
      "text/plain": [
       "[2588734.78587411,\n",
       " 976419.228183074,\n",
       " 263751.5397860758,\n",
       " 189772.7139743169,\n",
       " 153048.16422403557,\n",
       " 130588.8301199747,\n",
       " 112271.28417947343,\n",
       " 95248.40026619015,\n",
       " 76923.1681313766,\n",
       " 63961.40551613335,\n",
       " 50366.398524165015]"
      ]
     },
     "execution_count": 53,
     "metadata": {},
     "output_type": "execute_result"
    }
   ],
   "source": [
    "# Calculate sum of square distance inside the cluster\n",
    "soma_quadrados_intra_cluster = [ sum(d**2) for d in dist ]\n",
    "soma_quadrados_intra_cluster"
   ]
  },
  {
   "cell_type": "code",
   "execution_count": 55,
   "metadata": {
    "ExecuteTime": {
     "end_time": "2020-11-17T18:27:17.252829Z",
     "start_time": "2020-11-17T18:26:44.270340Z"
    }
   },
   "outputs": [
    {
     "data": {
      "text/plain": [
       "2588734.7858737633"
      ]
     },
     "execution_count": 55,
     "metadata": {},
     "output_type": "execute_result"
    }
   ],
   "source": [
    "# Total sum square\n",
    "soma_total = sum(pdist(pca)**2)/pca.shape[0]\n",
    "soma_total"
   ]
  },
  {
   "cell_type": "code",
   "execution_count": 56,
   "metadata": {
    "ExecuteTime": {
     "end_time": "2020-11-17T18:28:06.072321Z",
     "start_time": "2020-11-17T18:28:06.069152Z"
    }
   },
   "outputs": [
    {
     "data": {
      "text/plain": [
       "array([-3.46917659e-07,  1.61231556e+06,  2.32498325e+06,  2.39896207e+06,\n",
       "        2.43568662e+06,  2.45814596e+06,  2.47646350e+06,  2.49348639e+06,\n",
       "        2.51181162e+06,  2.52477338e+06,  2.53836839e+06])"
      ]
     },
     "execution_count": 56,
     "metadata": {},
     "output_type": "execute_result"
    }
   ],
   "source": [
    "# Calculate sum of square distance between clusters\n",
    "soma_quadrado_inter_cluster = soma_total - soma_quadrados_intra_cluster\n",
    "soma_quadrado_inter_cluster"
   ]
  },
  {
   "cell_type": "code",
   "execution_count": 61,
   "metadata": {
    "ExecuteTime": {
     "end_time": "2020-11-17T18:32:42.881434Z",
     "start_time": "2020-11-17T18:32:42.763499Z"
    }
   },
   "outputs": [
    {
     "data": {
      "image/png": "[encoded data removed]",
      "text/plain": [
       "<Figure size 432x288 with 1 Axes>"
      ]
     },
     "metadata": {
      "needs_background": "light"
     },
     "output_type": "display_data"
    }
   ],
   "source": [
    "# Creating Elbow Curve\n",
    "fig = plt.figure()\n",
    "ax = fig.add_subplot(111)\n",
    "ax.plot(k_range, soma_quadrado_inter_cluster/soma_total * 100, 'b*-')\n",
    "ax.set_ylim((0,100))\n",
    "plt.grid(True)\n",
    "plt.xlabel('Numero de Clusters')\n",
    "plt.ylabel('Percentual de Variancia Explicada')\n",
    "plt.title('Elbow Curve different k-values')\n",
    "plt.show()"
   ]
  },
  {
   "cell_type": "markdown",
   "metadata": {},
   "source": [
    "### Creating Model with k = 8"
   ]
  },
  {
   "cell_type": "code",
   "execution_count": 74,
   "metadata": {
    "ExecuteTime": {
     "end_time": "2020-11-17T18:48:53.657422Z",
     "start_time": "2020-11-17T18:48:53.437269Z"
    }
   },
   "outputs": [
    {
     "data": {
      "text/plain": [
       "KMeans()"
      ]
     },
     "execution_count": 74,
     "metadata": {},
     "output_type": "execute_result"
    }
   ],
   "source": [
    "modelo_v1 = KMeans(n_clusters=8)\n",
    "modelo_v1.fit(pca)"
   ]
  },
  {
   "cell_type": "markdown",
   "metadata": {},
   "source": [
    "#### Creating Meshgrid"
   ]
  },
  {
   "cell_type": "code",
   "execution_count": 75,
   "metadata": {
    "ExecuteTime": {
     "end_time": "2020-11-17T18:48:55.555897Z",
     "start_time": "2020-11-17T18:48:55.314030Z"
    }
   },
   "outputs": [],
   "source": [
    "# Obtain min and max values and organize the shape\n",
    "x_min, x_max = pca[:,0].min() - 5, pca[:,0].max() - 1\n",
    "y_min, y_max = pca[:,1].min() - 1, pca[:,1].max() - 5\n",
    "xx, yy = np.meshgrid(np.arange(x_min, x_max, .02), np.arange(y_min, y_max, .02))\n",
    "\n",
    "Z = modelo_v1.predict(np.c_[xx.ravel(), yy.ravel()])\n",
    "Z = Z.reshape(xx.shape)"
   ]
  },
  {
   "cell_type": "code",
   "execution_count": 76,
   "metadata": {
    "ExecuteTime": {
     "end_time": "2020-11-17T18:48:56.197102Z",
     "start_time": "2020-11-17T18:48:55.978628Z"
    }
   },
   "outputs": [
    {
     "data": {
      "image/png": "[encoded data removed]",
      "text/plain": [
       "<Figure size 432x288 with 1 Axes>"
      ]
     },
     "metadata": {
      "needs_background": "light"
     },
     "output_type": "display_data"
    }
   ],
   "source": [
    "# Plotting\n",
    "plt.figure(1)\n",
    "plt.clf()\n",
    "plt.imshow(Z,\n",
    "          interpolation='nearest',\n",
    "          extent = (xx.min(), xx.max(), yy.min(), yy.max()),\n",
    "           cmap=plt.cm.Paired,\n",
    "           aspect='auto',\n",
    "           origin='lower'\n",
    "          )\n",
    "plt.show()"
   ]
  },
  {
   "cell_type": "markdown",
   "metadata": {},
   "source": [
    "#### Calculate Silhouette Score"
   ]
  },
  {
   "cell_type": "code",
   "execution_count": 69,
   "metadata": {
    "ExecuteTime": {
     "end_time": "2020-11-17T18:45:26.809928Z",
     "start_time": "2020-11-17T18:45:26.804892Z"
    }
   },
   "outputs": [],
   "source": [
    "?silhouette_score"
   ]
  },
  {
   "cell_type": "code",
   "execution_count": 77,
   "metadata": {
    "ExecuteTime": {
     "end_time": "2020-11-17T18:49:05.521937Z",
     "start_time": "2020-11-17T18:49:01.723294Z"
    }
   },
   "outputs": [
    {
     "data": {
      "text/plain": [
       "0.6647265118697016"
      ]
     },
     "execution_count": 77,
     "metadata": {},
     "output_type": "execute_result"
    }
   ],
   "source": [
    "# Silhouette Score\n",
    "labels = modelo_v1.labels_\n",
    "silhouette_score(pca, labels, metric='euclidean')"
   ]
  },
  {
   "cell_type": "markdown",
   "metadata": {
    "ExecuteTime": {
     "end_time": "2020-11-17T18:47:53.406703Z",
     "start_time": "2020-11-17T18:47:53.403391Z"
    }
   },
   "source": [
    "### Creating Model with k = 10"
   ]
  },
  {
   "cell_type": "code",
   "execution_count": 79,
   "metadata": {
    "ExecuteTime": {
     "end_time": "2020-11-17T18:49:18.921273Z",
     "start_time": "2020-11-17T18:49:18.686144Z"
    }
   },
   "outputs": [
    {
     "data": {
      "text/plain": [
       "KMeans(n_clusters=10)"
      ]
     },
     "execution_count": 79,
     "metadata": {},
     "output_type": "execute_result"
    }
   ],
   "source": [
    "modelo_v2 = KMeans(n_clusters=10)\n",
    "modelo_v2.fit(pca)"
   ]
  },
  {
   "cell_type": "markdown",
   "metadata": {},
   "source": [
    "#### Creating Meshgrid"
   ]
  },
  {
   "cell_type": "code",
   "execution_count": 83,
   "metadata": {
    "ExecuteTime": {
     "end_time": "2020-11-17T18:50:20.298110Z",
     "start_time": "2020-11-17T18:50:20.047882Z"
    }
   },
   "outputs": [],
   "source": [
    "# Obtain min and max values and organize the shape\n",
    "x_min, x_max = pca[:,0].min() - 5, pca[:,0].max() - 1\n",
    "y_min, y_max = pca[:,1].min() - 1, pca[:,1].max() - 5\n",
    "xx, yy = np.meshgrid(np.arange(x_min, x_max, .02), np.arange(y_min, y_max, .02))\n",
    "\n",
    "Z = modelo_v2.predict(np.c_[xx.ravel(), yy.ravel()])\n",
    "Z = Z.reshape(xx.shape)"
   ]
  },
  {
   "cell_type": "code",
   "execution_count": 84,
   "metadata": {
    "ExecuteTime": {
     "end_time": "2020-11-17T18:50:31.042626Z",
     "start_time": "2020-11-17T18:50:30.798891Z"
    }
   },
   "outputs": [
    {
     "data": {
      "image/png": "[encoded data removed]",
      "text/plain": [
       "<Figure size 432x288 with 1 Axes>"
      ]
     },
     "metadata": {
      "needs_background": "light"
     },
     "output_type": "display_data"
    }
   ],
   "source": [
    "# Plotting\n",
    "plt.figure(1)\n",
    "plt.clf()\n",
    "plt.imshow(Z,\n",
    "          interpolation='nearest',\n",
    "          extent = (xx.min(), xx.max(), yy.min(), yy.max()),\n",
    "           cmap=plt.cm.Paired,\n",
    "           aspect='auto',\n",
    "           origin='lower'\n",
    "          )\n",
    "plt.show()"
   ]
  },
  {
   "cell_type": "markdown",
   "metadata": {},
   "source": [
    "#### Calculate Silhouette Score"
   ]
  },
  {
   "cell_type": "code",
   "execution_count": 85,
   "metadata": {
    "ExecuteTime": {
     "end_time": "2020-11-17T18:50:51.736768Z",
     "start_time": "2020-11-17T18:50:47.442206Z"
    }
   },
   "outputs": [
    {
     "data": {
      "text/plain": [
       "0.6457820399822991"
      ]
     },
     "execution_count": 85,
     "metadata": {},
     "output_type": "execute_result"
    }
   ],
   "source": [
    "# Silhouette Score\n",
    "labels = modelo_v2.labels_\n",
    "silhouette_score(pca, labels, metric='euclidean')"
   ]
  },
  {
   "cell_type": "markdown",
   "metadata": {},
   "source": [
    "### Calculate the average consumption per cluster"
   ]
  },
  {
   "cell_type": "code",
   "execution_count": 87,
   "metadata": {
    "ExecuteTime": {
     "end_time": "2020-11-17T18:56:58.602658Z",
     "start_time": "2020-11-17T18:56:58.599590Z"
    }
   },
   "outputs": [],
   "source": [
    "names = [\n",
    "    'Global_active_power',\n",
    "    'Global_reactive_power',\n",
    "    'Voltage',\n",
    "    'Global_intensity',\n",
    "    'Sub_metering_1',\n",
    "    'Sub_metering_2',\n",
    "    'Sub_metering_3'\n",
    "]"
   ]
  },
  {
   "cell_type": "code",
   "execution_count": 88,
   "metadata": {
    "ExecuteTime": {
     "end_time": "2020-11-17T18:58:06.339727Z",
     "start_time": "2020-11-17T18:58:06.301345Z"
    }
   },
   "outputs": [],
   "source": [
    "# Creating the dataframe\n",
    "cluster_map = pd.DataFrame(amostra1, columns=names)\n",
    "cluster_map['Global_active_power'] = pd.to_numeric(cluster_map['Global_active_power'])\n",
    "cluster_map['cluster'] = modelo_v1.labels_"
   ]
  },
  {
   "cell_type": "code",
   "execution_count": 89,
   "metadata": {
    "ExecuteTime": {
     "end_time": "2020-11-17T18:58:09.175192Z",
     "start_time": "2020-11-17T18:58:09.159782Z"
    }
   },
   "outputs": [
    {
     "data": {
      "text/html": [
       "<div>\n",
       "<style scoped>\n",
       "    .dataframe tbody tr th:only-of-type {\n",
       "        vertical-align: middle;\n",
       "    }\n",
       "\n",
       "    .dataframe tbody tr th {\n",
       "        vertical-align: top;\n",
       "    }\n",
       "\n",
       "    .dataframe thead th {\n",
       "        text-align: right;\n",
       "    }\n",
       "</style>\n",
       "<table border=\"1\" class=\"dataframe\">\n",
       "  <thead>\n",
       "    <tr style=\"text-align: right;\">\n",
       "      <th></th>\n",
       "      <th>Global_active_power</th>\n",
       "      <th>Global_reactive_power</th>\n",
       "      <th>Voltage</th>\n",
       "      <th>Global_intensity</th>\n",
       "      <th>Sub_metering_1</th>\n",
       "      <th>Sub_metering_2</th>\n",
       "      <th>Sub_metering_3</th>\n",
       "      <th>cluster</th>\n",
       "    </tr>\n",
       "  </thead>\n",
       "  <tbody>\n",
       "    <tr>\n",
       "      <th>0</th>\n",
       "      <td>2.070</td>\n",
       "      <td>0.162</td>\n",
       "      <td>241.510</td>\n",
       "      <td>8.600</td>\n",
       "      <td>0.000</td>\n",
       "      <td>0.000</td>\n",
       "      <td>18</td>\n",
       "      <td>0</td>\n",
       "    </tr>\n",
       "    <tr>\n",
       "      <th>1</th>\n",
       "      <td>1.968</td>\n",
       "      <td>0.000</td>\n",
       "      <td>239.960</td>\n",
       "      <td>8.200</td>\n",
       "      <td>0.000</td>\n",
       "      <td>0.000</td>\n",
       "      <td>28</td>\n",
       "      <td>5</td>\n",
       "    </tr>\n",
       "    <tr>\n",
       "      <th>2</th>\n",
       "      <td>0.430</td>\n",
       "      <td>0.102</td>\n",
       "      <td>242.700</td>\n",
       "      <td>2.000</td>\n",
       "      <td>0.000</td>\n",
       "      <td>0.000</td>\n",
       "      <td>0</td>\n",
       "      <td>1</td>\n",
       "    </tr>\n",
       "    <tr>\n",
       "      <th>3</th>\n",
       "      <td>1.702</td>\n",
       "      <td>0.100</td>\n",
       "      <td>241.680</td>\n",
       "      <td>7.000</td>\n",
       "      <td>0.000</td>\n",
       "      <td>0.000</td>\n",
       "      <td>0</td>\n",
       "      <td>4</td>\n",
       "    </tr>\n",
       "    <tr>\n",
       "      <th>4</th>\n",
       "      <td>0.940</td>\n",
       "      <td>0.000</td>\n",
       "      <td>242.050</td>\n",
       "      <td>4.000</td>\n",
       "      <td>0.000</td>\n",
       "      <td>0.000</td>\n",
       "      <td>1</td>\n",
       "      <td>1</td>\n",
       "    </tr>\n",
       "    <tr>\n",
       "      <th>...</th>\n",
       "      <td>...</td>\n",
       "      <td>...</td>\n",
       "      <td>...</td>\n",
       "      <td>...</td>\n",
       "      <td>...</td>\n",
       "      <td>...</td>\n",
       "      <td>...</td>\n",
       "      <td>...</td>\n",
       "    </tr>\n",
       "    <tr>\n",
       "      <th>20487</th>\n",
       "      <td>1.806</td>\n",
       "      <td>0.170</td>\n",
       "      <td>239.590</td>\n",
       "      <td>7.400</td>\n",
       "      <td>0.000</td>\n",
       "      <td>1.000</td>\n",
       "      <td>19</td>\n",
       "      <td>0</td>\n",
       "    </tr>\n",
       "    <tr>\n",
       "      <th>20488</th>\n",
       "      <td>0.314</td>\n",
       "      <td>0.286</td>\n",
       "      <td>245.220</td>\n",
       "      <td>1.600</td>\n",
       "      <td>0.000</td>\n",
       "      <td>1.000</td>\n",
       "      <td>0</td>\n",
       "      <td>1</td>\n",
       "    </tr>\n",
       "    <tr>\n",
       "      <th>20489</th>\n",
       "      <td>0.298</td>\n",
       "      <td>0.000</td>\n",
       "      <td>247.010</td>\n",
       "      <td>1.400</td>\n",
       "      <td>0.000</td>\n",
       "      <td>0.000</td>\n",
       "      <td>0</td>\n",
       "      <td>1</td>\n",
       "    </tr>\n",
       "    <tr>\n",
       "      <th>20490</th>\n",
       "      <td>0.382</td>\n",
       "      <td>0.214</td>\n",
       "      <td>239.300</td>\n",
       "      <td>1.800</td>\n",
       "      <td>0.000</td>\n",
       "      <td>0.000</td>\n",
       "      <td>1</td>\n",
       "      <td>1</td>\n",
       "    </tr>\n",
       "    <tr>\n",
       "      <th>20491</th>\n",
       "      <td>0.226</td>\n",
       "      <td>0.000</td>\n",
       "      <td>245.190</td>\n",
       "      <td>1.000</td>\n",
       "      <td>0.000</td>\n",
       "      <td>0.000</td>\n",
       "      <td>0</td>\n",
       "      <td>1</td>\n",
       "    </tr>\n",
       "  </tbody>\n",
       "</table>\n",
       "<p>20492 rows × 8 columns</p>\n",
       "</div>"
      ],
      "text/plain": [
       "       Global_active_power Global_reactive_power  Voltage Global_intensity  \\\n",
       "0                    2.070                 0.162  241.510            8.600   \n",
       "1                    1.968                 0.000  239.960            8.200   \n",
       "2                    0.430                 0.102  242.700            2.000   \n",
       "3                    1.702                 0.100  241.680            7.000   \n",
       "4                    0.940                 0.000  242.050            4.000   \n",
       "...                    ...                   ...      ...              ...   \n",
       "20487                1.806                 0.170  239.590            7.400   \n",
       "20488                0.314                 0.286  245.220            1.600   \n",
       "20489                0.298                 0.000  247.010            1.400   \n",
       "20490                0.382                 0.214  239.300            1.800   \n",
       "20491                0.226                 0.000  245.190            1.000   \n",
       "\n",
       "      Sub_metering_1 Sub_metering_2 Sub_metering_3  cluster  \n",
       "0              0.000          0.000             18        0  \n",
       "1              0.000          0.000             28        5  \n",
       "2              0.000          0.000              0        1  \n",
       "3              0.000          0.000              0        4  \n",
       "4              0.000          0.000              1        1  \n",
       "...              ...            ...            ...      ...  \n",
       "20487          0.000          1.000             19        0  \n",
       "20488          0.000          1.000              0        1  \n",
       "20489          0.000          0.000              0        1  \n",
       "20490          0.000          0.000              1        1  \n",
       "20491          0.000          0.000              0        1  \n",
       "\n",
       "[20492 rows x 8 columns]"
      ]
     },
     "execution_count": 89,
     "metadata": {},
     "output_type": "execute_result"
    }
   ],
   "source": [
    "cluster_map"
   ]
  },
  {
   "cell_type": "code",
   "execution_count": 91,
   "metadata": {
    "ExecuteTime": {
     "end_time": "2020-11-17T18:59:25.296896Z",
     "start_time": "2020-11-17T18:59:25.271454Z"
    }
   },
   "outputs": [
    {
     "data": {
      "text/plain": [
       "cluster\n",
       "0    1.673677\n",
       "1    0.383411\n",
       "2    4.117346\n",
       "3    3.022554\n",
       "4    1.663555\n",
       "5    3.066720\n",
       "6    5.780189\n",
       "7    1.110864\n",
       "Name: Global_active_power, dtype: float64"
      ]
     },
     "execution_count": 91,
     "metadata": {},
     "output_type": "execute_result"
    }
   ],
   "source": [
    "# Calculate the average consumption\n",
    "cluster_map.groupby('cluster')['Global_active_power'].mean()"
   ]
  },
  {
   "cell_type": "code",
   "execution_count": 92,
   "metadata": {
    "ExecuteTime": {
     "end_time": "2020-11-17T18:59:58.816312Z",
     "start_time": "2020-11-17T18:59:58.811348Z"
    }
   },
   "outputs": [
    {
     "data": {
      "text/plain": [
       "1.0904592035916487"
      ]
     },
     "execution_count": 92,
     "metadata": {},
     "output_type": "execute_result"
    }
   ],
   "source": [
    "cluster_map['Global_active_power'].mean()"
   ]
  }
 ],
 "metadata": {
  "kernelspec": {
   "display_name": "Python 3",
   "language": "python",
   "name": "python3"
  },
  "language_info": {
   "codemirror_mode": {
    "name": "ipython",
    "version": 3
   },
   "file_extension": ".py",
   "mimetype": "text/x-python",
   "name": "python",
   "nbconvert_exporter": "python",
   "pygments_lexer": "ipython3",
   "version": "3.7.6"
  },
  "toc": {
   "base_numbering": 1,
   "nav_menu": {},
   "number_sections": true,
   "sideBar": true,
   "skip_h1_title": false,
   "title_cell": "Table of Contents",
   "title_sidebar": "Contents",
   "toc_cell": false,
   "toc_position": {
    "height": "calc(100% - 180px)",
    "left": "10px",
    "top": "150px",
    "width": "283.5px"
   },
   "toc_section_display": true,
   "toc_window_display": true
  },
  "varInspector": {
   "cols": {
    "lenName": 16,
    "lenType": 16,
    "lenVar": 40
   },
   "kernels_config": {
    "python": {
     "delete_cmd_postfix": "",
     "delete_cmd_prefix": "del ",
     "library": "var_list.py",
     "varRefreshCmd": "print(var_dic_list())"
    },
    "r": {
     "delete_cmd_postfix": ") ",
     "delete_cmd_prefix": "rm(",
     "library": "var_list.r",
     "varRefreshCmd": "cat(var_dic_list()) "
    }
   },
   "types_to_exclude": [
    "module",
    "function",
    "builtin_function_or_method",
    "instance",
    "_Feature"
   ],
   "window_display": false
  }
 },
 "nbformat": 4,
 "nbformat_minor": 4
}
