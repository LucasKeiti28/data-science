{
 "cells": [
  {
   "cell_type": "markdown",
   "metadata": {},
   "source": [
    "# Naive-Bayes-Classification"
   ]
  },
  {
   "cell_type": "markdown",
   "metadata": {},
   "source": [
    "## News Classifier\n",
    "\n",
    "dataset: http://qwone.com/~jason/20Newsgroups/"
   ]
  },
  {
   "cell_type": "code",
   "execution_count": 1,
   "metadata": {
    "ExecuteTime": {
     "end_time": "2020-11-20T19:33:32.336595Z",
     "start_time": "2020-11-20T19:33:32.329563Z"
    }
   },
   "outputs": [],
   "source": [
    "# Imports\n",
    "import numpy as np \n",
    "from sklearn.datasets import fetch_20newsgroups\n",
    "from sklearn.feature_extraction.text import CountVectorizer \n",
    "from sklearn.pipeline import Pipeline\n",
    "from sklearn.naive_bayes import MultinomialNB\n",
    "from sklearn.feature_extraction.text import TfidfTransformer\n",
    "from sklearn.model_selection import GridSearchCV\n",
    "from sklearn import metrics \n",
    "import warnings\n",
    "warnings.filterwarnings('ignore', category=FutureWarning)"
   ]
  },
  {
   "cell_type": "code",
   "execution_count": 2,
   "metadata": {
    "ExecuteTime": {
     "end_time": "2020-11-20T19:34:34.016156Z",
     "start_time": "2020-11-20T19:34:34.014151Z"
    }
   },
   "outputs": [],
   "source": [
    "# Defining labels to classify\n",
    "categories = ['rec.motorcycles', 'sci.electronics', 'misc.forsale', 'talk.religion.misc']"
   ]
  },
  {
   "cell_type": "code",
   "execution_count": 3,
   "metadata": {
    "ExecuteTime": {
     "end_time": "2020-11-20T19:35:05.726721Z",
     "start_time": "2020-11-20T19:35:05.504489Z"
    }
   },
   "outputs": [],
   "source": [
    "# Trainning\n",
    "twenty_train = fetch_20newsgroups(subset='train', categories=categories, shuffle=True)"
   ]
  },
  {
   "cell_type": "code",
   "execution_count": 23,
   "metadata": {
    "ExecuteTime": {
     "end_time": "2020-11-20T19:41:09.394237Z",
     "start_time": "2020-11-20T19:41:09.389554Z"
    }
   },
   "outputs": [
    {
     "data": {
      "text/plain": [
       "['misc.forsale', 'rec.motorcycles', 'sci.electronics', 'talk.religion.misc']"
      ]
     },
     "execution_count": 23,
     "metadata": {},
     "output_type": "execute_result"
    }
   ],
   "source": [
    "twenty_train.target_names"
   ]
  },
  {
   "cell_type": "code",
   "execution_count": 10,
   "metadata": {
    "ExecuteTime": {
     "end_time": "2020-11-20T19:36:36.901784Z",
     "start_time": "2020-11-20T19:36:36.897756Z"
    }
   },
   "outputs": [
    {
     "data": {
      "text/plain": [
       "2151"
      ]
     },
     "execution_count": 10,
     "metadata": {},
     "output_type": "execute_result"
    }
   ],
   "source": [
    "len(twenty_train.data)"
   ]
  },
  {
   "cell_type": "code",
   "execution_count": 21,
   "metadata": {
    "ExecuteTime": {
     "end_time": "2020-11-20T19:40:51.541046Z",
     "start_time": "2020-11-20T19:40:51.532408Z"
    }
   },
   "outputs": [
    {
     "name": "stdout",
     "output_type": "stream",
     "text": [
      "From: moffatt@bnr.ca (John Thomson)\n",
      "Subject: Re: What is Zero dB????\n",
      "Nntp-Posting-Host: bcarhdd\n",
      "Organization: Bell-Northern Research, Ottawa, Canada\n",
      "X-Newsreader: TIN [version 1.1 PL6]\n",
      "Lines: 47\n",
      "\n",
      "Joseph Chiu (josephc@cco.caltech.edu) wrote:\n",
      ": sehari@iastate.edu (Babak Sehari) writes:\n",
      ": \n",
      ": >Similarly, people usually use dB for dBm. Another common mistake is spelling\n",
      ": >``db'' instead of ``dB'' as you did in your article. See the ``B'' is for \n",
      ": >``Bell'' company, the mother of AT&T and should be capitalized.\n",
      ": \n",
      ": Thus, a deciBell (deci-, l., tenth of + Bell) is a fractional part of the \n",
      ": original Bell.  For example, SouthWestern Bell is a deciBell.\n",
      "\n",
      "Out of what hat did you pull this one?  dB is a ratio not an RBOC!        \n",
      "\n",
      ": And the measure of current, Amp, is actually named after both the AMP company\n",
      ": and the Amphenol company.  Both companies revolutionized electronics by\n",
      ": simulatenously realizing that the performance of connectors and sockets \n",
      ": were affected by the amount of current running through the wires.\n",
      "\n",
      "Sorry.  The unit for current is the AMPERE which is the name of a french-man\n",
      "named AMPERE who studied electrical current.  The term AMP is just an abbreviation\n",
      "of it.  The company AMP came after the AMPERE unit was already in use.\n",
      "  \n",
      ": The Ohmite company was the first to characterize resistances by numbers, thus\n",
      ": our use of the Ohms...\n",
      "\n",
      "I don't know about this one, but it doesn't sound right.\n",
      "  \n",
      ": \n",
      ": Alexander Graham Bell, actually, is where Bell came from...  \n",
      "Well you got one thing right!\n",
      ": \n",
      ": \n",
      ": \n",
      ": Actually, Bel refers\n",
      ": \n",
      ": >                          With highest regards,\n",
      ": >                               Babak   Sehari.\n",
      ": \n",
      ": >-- \n",
      ": -- \n",
      ": Joseph Chiu        | josephc@cco.caltech.edu  \"OS/2: You gotta get this thing!\" \n",
      ": MSC 380 - Caltech  | \n",
      ": Pasadena, CA 91126 |   OS/2: The operating system of tomorrow, today.\n",
      ": +1 818 449 5457    |   \n",
      "\n",
      "Greg Moffatt\n",
      "Bell-Northern Research Inc., Ottawa Canada\n",
      "\"My opinions; not BNR's\"\n",
      "\n",
      "sci.electronics\n"
     ]
    }
   ],
   "source": [
    "# Visualizing one sample\n",
    "print(\"\\n\".join(twenty_train.data[10].split(\"\\n\")[:]))\n",
    "print(twenty_train.target_names[twenty_train.target[10]])"
   ]
  },
  {
   "cell_type": "code",
   "execution_count": 24,
   "metadata": {
    "ExecuteTime": {
     "end_time": "2020-11-20T19:41:47.688957Z",
     "start_time": "2020-11-20T19:41:47.682325Z"
    }
   },
   "outputs": [
    {
     "name": "stdout",
     "output_type": "stream",
     "text": [
      "rec.motorcycles\n",
      "talk.religion.misc\n",
      "talk.religion.misc\n",
      "misc.forsale\n",
      "misc.forsale\n",
      "rec.motorcycles\n",
      "misc.forsale\n",
      "talk.religion.misc\n",
      "talk.religion.misc\n",
      "misc.forsale\n"
     ]
    }
   ],
   "source": [
    "# Visualizing class of 10 first registers\n",
    "for t in twenty_train.target[:10]:\n",
    "    print(twenty_train.target_names[t])"
   ]
  },
  {
   "cell_type": "markdown",
   "metadata": {},
   "source": [
    "## Bag of Words"
   ]
  },
  {
   "cell_type": "code",
   "execution_count": 25,
   "metadata": {
    "ExecuteTime": {
     "end_time": "2020-11-20T19:44:09.683340Z",
     "start_time": "2020-11-20T19:44:09.363713Z"
    }
   },
   "outputs": [
    {
     "data": {
      "text/plain": [
       "(2151, 31564)"
      ]
     },
     "execution_count": 25,
     "metadata": {},
     "output_type": "execute_result"
    }
   ],
   "source": [
    "# Tokenizing\n",
    "count_vect = CountVectorizer()\n",
    "X_train_counts = count_vect.fit_transform(twenty_train.data)\n",
    "X_train_counts.shape"
   ]
  },
  {
   "cell_type": "code",
   "execution_count": 28,
   "metadata": {
    "ExecuteTime": {
     "end_time": "2020-11-20T19:45:17.710110Z",
     "start_time": "2020-11-20T19:45:17.705708Z"
    }
   },
   "outputs": [
    {
     "name": "stdout",
     "output_type": "stream",
     "text": [
      "  (0, 13628)\t1\n",
      "  (0, 26891)\t3\n",
      "  (0, 5894)\t4\n",
      "  (0, 9652)\t4\n",
      "  (0, 13910)\t5\n",
      "  (0, 8774)\t6\n",
      "  (0, 24813)\t3\n",
      "  (0, 26892)\t3\n",
      "  (0, 27417)\t1\n",
      "  (0, 23822)\t2\n",
      "  (0, 17210)\t1\n",
      "  (0, 31479)\t4\n",
      "  (0, 30541)\t2\n",
      "  (0, 30276)\t1\n",
      "  (0, 30378)\t1\n",
      "  (0, 14304)\t2\n",
      "  (0, 2743)\t2\n",
      "  (0, 5504)\t2\n",
      "  (0, 9653)\t1\n",
      "  (0, 7411)\t1\n",
      "  (0, 2884)\t1\n",
      "  (0, 24326)\t1\n",
      "  (0, 28664)\t3\n",
      "  (0, 21346)\t1\n",
      "  (0, 9452)\t1\n",
      "  :\t:\n",
      "  (2150, 24382)\t1\n",
      "  (2150, 11129)\t1\n",
      "  (2150, 13844)\t1\n",
      "  (2150, 4396)\t1\n",
      "  (2150, 10096)\t1\n",
      "  (2150, 25204)\t1\n",
      "  (2150, 8466)\t1\n",
      "  (2150, 27369)\t1\n",
      "  (2150, 23325)\t1\n",
      "  (2150, 26195)\t3\n",
      "  (2150, 28352)\t1\n",
      "  (2150, 10265)\t1\n",
      "  (2150, 7461)\t1\n",
      "  (2150, 5353)\t1\n",
      "  (2150, 8806)\t1\n",
      "  (2150, 5686)\t2\n",
      "  (2150, 26219)\t1\n",
      "  (2150, 4481)\t1\n",
      "  (2150, 25760)\t1\n",
      "  (2150, 570)\t2\n",
      "  (2150, 3408)\t2\n",
      "  (2150, 31313)\t1\n",
      "  (2150, 28844)\t1\n",
      "  (2150, 16832)\t1\n",
      "  (2150, 13818)\t1\n"
     ]
    }
   ],
   "source": [
    "print(X_train_counts)"
   ]
  },
  {
   "cell_type": "code",
   "execution_count": 32,
   "metadata": {
    "ExecuteTime": {
     "end_time": "2020-11-20T19:49:36.265074Z",
     "start_time": "2020-11-20T19:49:36.250993Z"
    }
   },
   "outputs": [
    {
     "data": {
      "text/plain": [
       "(2151, 31564)"
      ]
     },
     "execution_count": 32,
     "metadata": {},
     "output_type": "execute_result"
    }
   ],
   "source": [
    "# Term Frequency Times Inverse Document Frequency (Tfidf)\n",
    "tfidf_transformer = TfidfTransformer()\n",
    "X_train_tfidf = tfidf_transformer.fit_transform(X_train_counts)\n",
    "X_train_tfidf.shape"
   ]
  },
  {
   "cell_type": "code",
   "execution_count": 33,
   "metadata": {
    "ExecuteTime": {
     "end_time": "2020-11-20T19:49:42.639600Z",
     "start_time": "2020-11-20T19:49:42.634518Z"
    }
   },
   "outputs": [
    {
     "name": "stdout",
     "output_type": "stream",
     "text": [
      "  (0, 31479)\t0.27986206976760586\n",
      "  (0, 31223)\t0.07112247020370334\n",
      "  (0, 31159)\t0.040768161697355525\n",
      "  (0, 31109)\t0.02390955848250578\n",
      "  (0, 30974)\t0.03542038246709194\n",
      "  (0, 30833)\t0.034021050880748735\n",
      "  (0, 30594)\t0.03208156637720816\n",
      "  (0, 30541)\t0.044965341372976204\n",
      "  (0, 30470)\t0.0550207767858142\n",
      "  (0, 30378)\t0.056209058798599686\n",
      "  (0, 30276)\t0.05754170962902774\n",
      "  (0, 29874)\t0.07241583335350622\n",
      "  (0, 29798)\t0.029568681093915857\n",
      "  (0, 28716)\t0.06620756508072162\n",
      "  (0, 28664)\t0.038535080151361395\n",
      "  (0, 28592)\t0.030403804110316544\n",
      "  (0, 28322)\t0.07364172215144714\n",
      "  (0, 28315)\t0.03399829273236834\n",
      "  (0, 27417)\t0.010980895021046152\n",
      "  (0, 26892)\t0.24955864924319732\n",
      "  (0, 26891)\t0.24955864924319732\n",
      "  (0, 26602)\t0.03493123157161606\n",
      "  (0, 26416)\t0.0443564901543458\n",
      "  (0, 26258)\t0.06291738729899189\n",
      "  (0, 26003)\t0.048441922386978274\n",
      "  :\t:\n",
      "  (2150, 6338)\t0.15259710801405602\n",
      "  (2150, 6291)\t0.029615804755250184\n",
      "  (2150, 5854)\t0.0552847817847905\n",
      "  (2150, 5785)\t0.05455024086348416\n",
      "  (2150, 5686)\t0.15574098155310348\n",
      "  (2150, 5515)\t0.041501497056754995\n",
      "  (2150, 5504)\t0.03827578684063134\n",
      "  (2150, 5399)\t0.1251130393041972\n",
      "  (2150, 5353)\t0.07074549287234745\n",
      "  (2150, 5110)\t0.05945263837646684\n",
      "  (2150, 5109)\t0.0600401810950108\n",
      "  (2150, 5071)\t0.037550892002960815\n",
      "  (2150, 5036)\t0.020883900638157753\n",
      "  (2150, 4844)\t0.06367358459399522\n",
      "  (2150, 4481)\t0.07787049077655174\n",
      "  (2150, 4396)\t0.06362049496814316\n",
      "  (2150, 4248)\t0.11645242379850052\n",
      "  (2150, 4247)\t0.02221255589987565\n",
      "  (2150, 3864)\t0.062035949432210066\n",
      "  (2150, 3408)\t0.16407669473645617\n",
      "  (2150, 2360)\t0.04742524295927988\n",
      "  (2150, 2341)\t0.04724952587454734\n",
      "  (2150, 1737)\t0.05945263837646684\n",
      "  (2150, 1161)\t0.10840352012512389\n",
      "  (2150, 570)\t0.16407669473645617\n"
     ]
    }
   ],
   "source": [
    "print(X_train_tfidf)"
   ]
  },
  {
   "cell_type": "markdown",
   "metadata": {},
   "source": [
    "## Creating Model"
   ]
  },
  {
   "cell_type": "code",
   "execution_count": 34,
   "metadata": {
    "ExecuteTime": {
     "end_time": "2020-11-20T19:50:32.328428Z",
     "start_time": "2020-11-20T19:50:32.313619Z"
    }
   },
   "outputs": [],
   "source": [
    "# Creating Model\n",
    "clf = MultinomialNB().fit(X_train_tfidf, twenty_train.target)"
   ]
  },
  {
   "cell_type": "code",
   "execution_count": 44,
   "metadata": {
    "ExecuteTime": {
     "end_time": "2020-11-20T19:56:52.738155Z",
     "start_time": "2020-11-20T19:56:52.726623Z"
    }
   },
   "outputs": [
    {
     "ename": "ValueError",
     "evalue": "Input has n_features=8 while the model has been trained with n_features=31564",
     "output_type": "error",
     "traceback": [
      "\u001b[0;31m---------------------------------------------------------------------------\u001b[0m",
      "\u001b[0;31mValueError\u001b[0m                                Traceback (most recent call last)",
      "\u001b[0;32m<ipython-input-44-d332f66cea75>\u001b[0m in \u001b[0;36m<module>\u001b[0;34m\u001b[0m\n\u001b[1;32m      2\u001b[0m \u001b[0mdocs_new\u001b[0m \u001b[0;34m=\u001b[0m \u001b[0;34m[\u001b[0m\u001b[0;34m'God is love'\u001b[0m\u001b[0;34m,\u001b[0m \u001b[0;34m'OpenGL on the GPU is fast'\u001b[0m\u001b[0;34m]\u001b[0m\u001b[0;34m\u001b[0m\u001b[0;34m\u001b[0m\u001b[0m\n\u001b[1;32m      3\u001b[0m \u001b[0mX_new_counts\u001b[0m \u001b[0;34m=\u001b[0m \u001b[0mcount_vect\u001b[0m\u001b[0;34m.\u001b[0m\u001b[0mtransform\u001b[0m\u001b[0;34m(\u001b[0m\u001b[0mdocs_new\u001b[0m\u001b[0;34m)\u001b[0m\u001b[0;34m\u001b[0m\u001b[0;34m\u001b[0m\u001b[0m\n\u001b[0;32m----> 4\u001b[0;31m \u001b[0mX_new_tfidf\u001b[0m \u001b[0;34m=\u001b[0m \u001b[0mtfidf_transformer\u001b[0m\u001b[0;34m.\u001b[0m\u001b[0mtransform\u001b[0m\u001b[0;34m(\u001b[0m\u001b[0mX_new_counts\u001b[0m\u001b[0;34m)\u001b[0m\u001b[0;34m\u001b[0m\u001b[0;34m\u001b[0m\u001b[0m\n\u001b[0m\u001b[1;32m      5\u001b[0m \u001b[0;34m\u001b[0m\u001b[0m\n\u001b[1;32m      6\u001b[0m \u001b[0mpredicted\u001b[0m \u001b[0;34m=\u001b[0m \u001b[0mclf\u001b[0m\u001b[0;34m.\u001b[0m\u001b[0mpredict\u001b[0m\u001b[0;34m(\u001b[0m\u001b[0mX_new_tfidf\u001b[0m\u001b[0;34m)\u001b[0m\u001b[0;34m\u001b[0m\u001b[0;34m\u001b[0m\u001b[0m\n",
      "\u001b[0;32m~/.local/lib/python3.7/site-packages/sklearn/feature_extraction/text.py\u001b[0m in \u001b[0;36mtransform\u001b[0;34m(self, X, copy)\u001b[0m\n\u001b[1;32m   1490\u001b[0m                 raise ValueError(\"Input has n_features=%d while the model\"\n\u001b[1;32m   1491\u001b[0m                                  \" has been trained with n_features=%d\" % (\n\u001b[0;32m-> 1492\u001b[0;31m                                      n_features, expected_n_features))\n\u001b[0m\u001b[1;32m   1493\u001b[0m             \u001b[0;31m# *= doesn't work\u001b[0m\u001b[0;34m\u001b[0m\u001b[0;34m\u001b[0m\u001b[0;34m\u001b[0m\u001b[0m\n\u001b[1;32m   1494\u001b[0m             \u001b[0mX\u001b[0m \u001b[0;34m=\u001b[0m \u001b[0mX\u001b[0m \u001b[0;34m*\u001b[0m \u001b[0mself\u001b[0m\u001b[0;34m.\u001b[0m\u001b[0m_idf_diag\u001b[0m\u001b[0;34m\u001b[0m\u001b[0;34m\u001b[0m\u001b[0m\n",
      "\u001b[0;31mValueError\u001b[0m: Input has n_features=8 while the model has been trained with n_features=31564"
     ]
    }
   ],
   "source": [
    "# Predictions\n",
    "docs_new = ['God is love', 'OpenGL on the GPU is fast']\n",
    "X_new_counts = count_vect.transform(docs_new)\n",
    "X_new_tfidf = tfidf_transformer.transform(X_new_counts)\n",
    "\n",
    "predicted = clf.predict(X_new_tfidf)\n",
    "\n",
    "for doc, category in zip(docs_new, predicted):\n",
    "    print('%r => %s' % (doc, twenty_train.target_names[category]))"
   ]
  },
  {
   "cell_type": "code",
   "execution_count": 54,
   "metadata": {
    "ExecuteTime": {
     "end_time": "2020-11-20T19:59:43.239838Z",
     "start_time": "2020-11-20T19:59:43.237287Z"
    }
   },
   "outputs": [],
   "source": [
    "# Criando um Pipeline - to vectorize, create term frequency inverse and classifier\n",
    "text_clf = Pipeline([('vect', CountVectorizer()),\n",
    "                     ('tfidf', TfidfTransformer()),\n",
    "                     ('clf', MultinomialNB()),\n",
    "])"
   ]
  },
  {
   "cell_type": "code",
   "execution_count": 55,
   "metadata": {
    "ExecuteTime": {
     "end_time": "2020-11-20T19:59:45.462074Z",
     "start_time": "2020-11-20T19:59:45.090479Z"
    }
   },
   "outputs": [],
   "source": [
    "# Fit\n",
    "text_clf = text_clf.fit(twenty_train.data, twenty_train.target)"
   ]
  },
  {
   "cell_type": "code",
   "execution_count": 56,
   "metadata": {
    "ExecuteTime": {
     "end_time": "2020-11-20T19:59:54.328539Z",
     "start_time": "2020-11-20T19:59:53.927187Z"
    }
   },
   "outputs": [
    {
     "data": {
      "text/plain": [
       "0.9036312849162011"
      ]
     },
     "execution_count": 56,
     "metadata": {},
     "output_type": "execute_result"
    }
   ],
   "source": [
    "# Accuracy Model\n",
    "twenty_test = fetch_20newsgroups(subset = 'test', categories = categories, shuffle = True, random_state = 42)\n",
    "docs_test = twenty_test.data\n",
    "predicted = text_clf.predict(docs_test)\n",
    "np.mean(predicted == twenty_test.target)    "
   ]
  },
  {
   "cell_type": "code",
   "execution_count": 57,
   "metadata": {
    "ExecuteTime": {
     "end_time": "2020-11-20T19:59:57.039517Z",
     "start_time": "2020-11-20T19:59:57.022223Z"
    }
   },
   "outputs": [
    {
     "name": "stdout",
     "output_type": "stream",
     "text": [
      "                    precision    recall  f1-score   support\n",
      "\n",
      "      misc.forsale       0.97      0.86      0.91       390\n",
      "   rec.motorcycles       0.83      0.99      0.90       398\n",
      "   sci.electronics       0.89      0.92      0.91       393\n",
      "talk.religion.misc       1.00      0.80      0.89       251\n",
      "\n",
      "          accuracy                           0.90      1432\n",
      "         macro avg       0.92      0.89      0.90      1432\n",
      "      weighted avg       0.91      0.90      0.90      1432\n",
      "\n"
     ]
    }
   ],
   "source": [
    "# Metrics\n",
    "print(metrics.classification_report(twenty_test.target, predicted, target_names = twenty_test.target_names))"
   ]
  },
  {
   "cell_type": "code",
   "execution_count": 45,
   "metadata": {
    "ExecuteTime": {
     "end_time": "2020-11-20T19:57:01.303308Z",
     "start_time": "2020-11-20T19:57:01.291896Z"
    }
   },
   "outputs": [
    {
     "data": {
      "text/plain": [
       "array([[336,  23,  31,   0],\n",
       "       [  3, 395,   0,   0],\n",
       "       [  4,  26, 363,   0],\n",
       "       [  3,  33,  15, 200]])"
      ]
     },
     "execution_count": 45,
     "metadata": {},
     "output_type": "execute_result"
    }
   ],
   "source": [
    "# Confusion Matrix\n",
    "metrics.confusion_matrix(twenty_test.target, predicted)"
   ]
  },
  {
   "cell_type": "code",
   "execution_count": 58,
   "metadata": {
    "ExecuteTime": {
     "end_time": "2020-11-20T20:00:05.976827Z",
     "start_time": "2020-11-20T20:00:05.973858Z"
    }
   },
   "outputs": [],
   "source": [
    "# Params to GridSearchCV\n",
    "parameters = {'vect__ngram_range': [(1, 1), (1, 2)],\n",
    "              'tfidf__use_idf': (True, False),\n",
    "              'clf__alpha': (1e-2, 1e-3),\n",
    "}"
   ]
  },
  {
   "cell_type": "code",
   "execution_count": 47,
   "metadata": {
    "ExecuteTime": {
     "end_time": "2020-11-20T19:57:09.161740Z",
     "start_time": "2020-11-20T19:57:09.158305Z"
    }
   },
   "outputs": [],
   "source": [
    "# GridSearchCV\n",
    "gs_clf = GridSearchCV(text_clf, parameters, n_jobs = -1)"
   ]
  },
  {
   "cell_type": "code",
   "execution_count": 48,
   "metadata": {
    "ExecuteTime": {
     "end_time": "2020-11-20T19:57:14.270140Z",
     "start_time": "2020-11-20T19:57:12.152056Z"
    }
   },
   "outputs": [],
   "source": [
    "# Fit\n",
    "gs_clf = gs_clf.fit(twenty_train.data[:400], twenty_train.target[:400])"
   ]
  },
  {
   "cell_type": "code",
   "execution_count": 59,
   "metadata": {
    "ExecuteTime": {
     "end_time": "2020-11-20T20:00:11.196112Z",
     "start_time": "2020-11-20T20:00:11.191827Z"
    }
   },
   "outputs": [
    {
     "data": {
      "text/plain": [
       "'rec.motorcycles'"
      ]
     },
     "execution_count": 59,
     "metadata": {},
     "output_type": "execute_result"
    }
   ],
   "source": [
    "# Testing\n",
    "twenty_train.target_names[gs_clf.predict(['We need sale this until tomorrow'])[0]]"
   ]
  },
  {
   "cell_type": "code",
   "execution_count": 60,
   "metadata": {
    "ExecuteTime": {
     "end_time": "2020-11-20T20:00:12.231504Z",
     "start_time": "2020-11-20T20:00:12.226347Z"
    }
   },
   "outputs": [
    {
     "data": {
      "text/plain": [
       "0.915"
      ]
     },
     "execution_count": 60,
     "metadata": {},
     "output_type": "execute_result"
    }
   ],
   "source": [
    "# Score\n",
    "gs_clf.best_score_        "
   ]
  },
  {
   "cell_type": "code",
   "execution_count": 61,
   "metadata": {
    "ExecuteTime": {
     "end_time": "2020-11-20T20:00:17.303187Z",
     "start_time": "2020-11-20T20:00:17.298306Z"
    }
   },
   "outputs": [
    {
     "name": "stdout",
     "output_type": "stream",
     "text": [
      "clf__alpha: 0.01\n",
      "tfidf__use_idf: False\n",
      "vect__ngram_range: (1, 2)\n"
     ]
    }
   ],
   "source": [
    "#  Params used\n",
    "for param_name in sorted(parameters.keys()):\n",
    "    print(\"%s: %r\" % (param_name, gs_clf.best_params_[param_name]))"
   ]
  },
  {
   "cell_type": "code",
   "execution_count": null,
   "metadata": {},
   "outputs": [],
   "source": []
  }
 ],
 "metadata": {
  "kernelspec": {
   "display_name": "Python 3",
   "language": "python",
   "name": "python3"
  },
  "language_info": {
   "codemirror_mode": {
    "name": "ipython",
    "version": 3
   },
   "file_extension": ".py",
   "mimetype": "text/x-python",
   "name": "python",
   "nbconvert_exporter": "python",
   "pygments_lexer": "ipython3",
   "version": "3.7.6"
  },
  "toc": {
   "base_numbering": 1,
   "nav_menu": {},
   "number_sections": true,
   "sideBar": true,
   "skip_h1_title": false,
   "title_cell": "Table of Contents",
   "title_sidebar": "Contents",
   "toc_cell": false,
   "toc_position": {},
   "toc_section_display": true,
   "toc_window_display": false
  },
  "varInspector": {
   "cols": {
    "lenName": 16,
    "lenType": 16,
    "lenVar": 40
   },
   "kernels_config": {
    "python": {
     "delete_cmd_postfix": "",
     "delete_cmd_prefix": "del ",
     "library": "var_list.py",
     "varRefreshCmd": "print(var_dic_list())"
    },
    "r": {
     "delete_cmd_postfix": ") ",
     "delete_cmd_prefix": "rm(",
     "library": "var_list.r",
     "varRefreshCmd": "cat(var_dic_list()) "
    }
   },
   "types_to_exclude": [
    "module",
    "function",
    "builtin_function_or_method",
    "instance",
    "_Feature"
   ],
   "window_display": false
  }
 },
 "nbformat": 4,
 "nbformat_minor": 4
}
