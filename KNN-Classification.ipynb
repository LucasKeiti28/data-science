{
 "cells": [
  {
   "cell_type": "markdown",
   "metadata": {},
   "source": [
    "# Classification with KNN (Key Nearest Neighbours)"
   ]
  },
  {
   "cell_type": "markdown",
   "metadata": {},
   "source": [
    "The value k determines how many neighbours the algorithm will consider to create the model"
   ]
  },
  {
   "cell_type": "markdown",
   "metadata": {},
   "source": [
    "## Classification with KNN\n",
    "\n",
    "Step to Step <br />\n",
    "1) Define Business Problems more specific possible <br />\n",
    "2) Collect/Loading Data <br />\n",
    "3) Divide data between explanatory variables and target variable <br />\n",
    "4) Divide data between trainning and testig data (70/30%) <br />\n",
    "5) Divide trainning data between tranning and validation data (90/10%) <br />\n",
    "6) Normalization Data <br />\n",
    "7) Defining the best value of k <br />\n",
    "8) Create model for different values of k and calculate the accuracy <br />\n",
    "9) Get the best value of k with argmax() <br />\n",
    "10) Create Model <br />\n",
    "11) Tranning Model <br />\n",
    "12) Evaluation model with Testing Data <br />\n",
    "13) Create Confusion Matrix <br />\n",
    "14) Predict output with new data"
   ]
  },
  {
   "cell_type": "code",
   "execution_count": 1,
   "metadata": {
    "ExecuteTime": {
     "end_time": "2020-11-19T18:57:14.903083Z",
     "start_time": "2020-11-19T18:57:14.569112Z"
    }
   },
   "outputs": [],
   "source": [
    "# Imports\n",
    "import numpy as np\n",
    "from sklearn import datasets\n",
    "from sklearn.metrics import confusion_matrix\n",
    "from sklearn.model_selection import train_test_split\n",
    "from sklearn.neighbors import KNeighborsClassifier\n",
    "from sklearn.metrics import classification_report\n",
    "import matplotlib.pyplot as plt\n",
    "import warnings\n",
    "warnings.filterwarnings('ignore')"
   ]
  },
  {
   "cell_type": "code",
   "execution_count": 2,
   "metadata": {
    "ExecuteTime": {
     "end_time": "2020-11-19T18:57:30.040304Z",
     "start_time": "2020-11-19T18:57:29.960728Z"
    }
   },
   "outputs": [],
   "source": [
    "# Loading Data\n",
    "digitos = datasets.load_digits()"
   ]
  },
  {
   "cell_type": "code",
   "execution_count": 19,
   "metadata": {
    "ExecuteTime": {
     "end_time": "2020-11-19T19:02:49.439821Z",
     "start_time": "2020-11-19T19:02:49.436367Z"
    }
   },
   "outputs": [
    {
     "name": "stdout",
     "output_type": "stream",
     "text": [
      "(1797, 64)\n"
     ]
    }
   ],
   "source": [
    "x = digitos.data\n",
    "print(x.shape)"
   ]
  },
  {
   "cell_type": "code",
   "execution_count": 21,
   "metadata": {
    "ExecuteTime": {
     "end_time": "2020-11-19T19:03:01.112431Z",
     "start_time": "2020-11-19T19:03:01.109732Z"
    }
   },
   "outputs": [
    {
     "name": "stdout",
     "output_type": "stream",
     "text": [
      "(1797,)\n"
     ]
    }
   ],
   "source": [
    "y = digitos.target\n",
    "print(y.shape)"
   ]
  },
  {
   "cell_type": "code",
   "execution_count": 16,
   "metadata": {
    "ExecuteTime": {
     "end_time": "2020-11-19T19:02:05.918518Z",
     "start_time": "2020-11-19T19:02:05.804279Z"
    }
   },
   "outputs": [
    {
     "data": {
      "image/png": "[encoded data removed]",
      "text/plain": [
       "<Figure size 432x288 with 4 Axes>"
      ]
     },
     "metadata": {
      "needs_background": "light"
     },
     "output_type": "display_data"
    }
   ],
   "source": [
    "# Visualizing images and lables\n",
    "images_e_labels = list(zip(digitos.images, digitos.target))\n",
    "for index, (image, label) in enumerate(images_e_labels[:4]):\n",
    "    plt.subplot(2,4,index+1)\n",
    "    plt.axis('off')\n",
    "    plt.imshow(image, cmap=plt.cm.gray_r, interpolation='nearest')\n",
    "    plt.title('Label: %i' % label)"
   ]
  },
  {
   "cell_type": "markdown",
   "metadata": {},
   "source": [
    "## Pre-Processing and Normalization"
   ]
  },
  {
   "cell_type": "code",
   "execution_count": 23,
   "metadata": {
    "ExecuteTime": {
     "end_time": "2020-11-19T19:05:51.737831Z",
     "start_time": "2020-11-19T19:05:51.730507Z"
    }
   },
   "outputs": [],
   "source": [
    "# Spliting between train and test data\n",
    "X_treino, testeData, Y_treino, testeLabels = train_test_split(x, \n",
    "                                                              y, \n",
    "                                                              test_size = 0.30, \n",
    "                                                              random_state = 101)"
   ]
  },
  {
   "cell_type": "code",
   "execution_count": 24,
   "metadata": {
    "ExecuteTime": {
     "end_time": "2020-11-19T19:06:29.853875Z",
     "start_time": "2020-11-19T19:06:29.848234Z"
    }
   },
   "outputs": [],
   "source": [
    "# Dividing Trainning data between Train and Validation\n",
    "treinoData, validData, treinoLabels, validLabels = train_test_split(X_treino, \n",
    "                                                                    Y_treino, \n",
    "                                                                    test_size = 0.1, \n",
    "                                                                    random_state = 84)"
   ]
  },
  {
   "cell_type": "code",
   "execution_count": 25,
   "metadata": {
    "ExecuteTime": {
     "end_time": "2020-11-19T19:10:26.621312Z",
     "start_time": "2020-11-19T19:10:26.618157Z"
    }
   },
   "outputs": [
    {
     "name": "stdout",
     "output_type": "stream",
     "text": [
      "Exemplos de Treino: 1131\n",
      "Exemplos de Validação: 126\n",
      "Exemplos de Teste: 540\n"
     ]
    }
   ],
   "source": [
    "# Imprimindo o número de exemplos (observações) em cada dataset\n",
    "print(\"Exemplos de Treino: {}\".format(len(treinoLabels)))\n",
    "print(\"Exemplos de Validação: {}\".format(len(validLabels)))\n",
    "print(\"Exemplos de Teste: {}\".format(len(testeLabels)))"
   ]
  },
  {
   "cell_type": "code",
   "execution_count": 27,
   "metadata": {
    "ExecuteTime": {
     "end_time": "2020-11-19T19:11:39.493235Z",
     "start_time": "2020-11-19T19:11:39.488730Z"
    }
   },
   "outputs": [
    {
     "data": {
      "text/plain": [
       "array([0.00000000e+00, 3.03839733e-01, 5.20478575e+00, 1.18358375e+01,\n",
       "       1.18480801e+01, 5.78185865e+00, 1.36227045e+00, 1.29660545e-01,\n",
       "       5.56483027e-03, 1.99387869e+00, 1.03823038e+01, 1.19794101e+01,\n",
       "       1.02793545e+01, 8.17584864e+00, 1.84641068e+00, 1.07957707e-01,\n",
       "       2.78241514e-03, 2.60155815e+00, 9.90317195e+00, 6.99276572e+00,\n",
       "       7.09794101e+00, 7.80634391e+00, 1.78853645e+00, 5.00834725e-02,\n",
       "       1.11296605e-03, 2.46967168e+00, 9.09126322e+00, 8.82136895e+00,\n",
       "       9.92710072e+00, 7.55147468e+00, 2.31775181e+00, 2.22593211e-03,\n",
       "       0.00000000e+00, 2.33945465e+00, 7.66722315e+00, 9.07178631e+00,\n",
       "       1.03016138e+01, 8.74401781e+00, 2.90929327e+00, 0.00000000e+00,\n",
       "       8.90372844e-03, 1.58375070e+00, 6.88146912e+00, 7.22815804e+00,\n",
       "       7.67223150e+00, 8.23650529e+00, 3.45631608e+00, 2.72676683e-02,\n",
       "       7.23427935e-03, 7.04507513e-01, 7.50695604e+00, 9.53923205e+00,\n",
       "       9.41624930e+00, 8.75848637e+00, 3.72509738e+00, 2.06455203e-01,\n",
       "       5.56483027e-04, 2.79354480e-01, 5.55759599e+00, 1.20890373e+01,\n",
       "       1.18091263e+01, 6.76405120e+00, 2.06789093e+00, 3.64496383e-01])"
      ]
     },
     "execution_count": 27,
     "metadata": {},
     "output_type": "execute_result"
    }
   ],
   "source": [
    "# Normalização dos dados pela Média\n",
    "\n",
    "# Cálculo da média do dataset de treino\n",
    "X_norm = np.mean(x, axis = 0)\n",
    "X_norm"
   ]
  },
  {
   "cell_type": "code",
   "execution_count": 28,
   "metadata": {
    "ExecuteTime": {
     "end_time": "2020-11-19T19:12:02.658436Z",
     "start_time": "2020-11-19T19:12:02.655451Z"
    }
   },
   "outputs": [],
   "source": [
    "# Normalização dos dados de treino e de teste\n",
    "X_treino_norm = treinoData - X_norm\n",
    "X_valid_norm = validData - X_norm\n",
    "X_teste_norm = testeData - X_norm"
   ]
  },
  {
   "cell_type": "code",
   "execution_count": 29,
   "metadata": {
    "ExecuteTime": {
     "end_time": "2020-11-19T19:12:16.188411Z",
     "start_time": "2020-11-19T19:12:16.183993Z"
    }
   },
   "outputs": [
    {
     "name": "stdout",
     "output_type": "stream",
     "text": [
      "(1131, 64) (126, 64) (540, 64)\n"
     ]
    }
   ],
   "source": [
    "# Shape dos datasets\n",
    "print(X_treino_norm.shape, X_valid_norm.shape, X_teste_norm.shape)"
   ]
  },
  {
   "cell_type": "markdown",
   "metadata": {},
   "source": [
    "##  Testando o Melhor Valor de K"
   ]
  },
  {
   "cell_type": "code",
   "execution_count": 30,
   "metadata": {
    "ExecuteTime": {
     "end_time": "2020-11-19T19:16:59.721693Z",
     "start_time": "2020-11-19T19:16:59.719234Z"
    }
   },
   "outputs": [],
   "source": [
    "# Range de valores de k que iremos testar\n",
    "kVals = range(1, 30, 2)"
   ]
  },
  {
   "cell_type": "code",
   "execution_count": 31,
   "metadata": {
    "ExecuteTime": {
     "end_time": "2020-11-19T19:17:04.402426Z",
     "start_time": "2020-11-19T19:17:04.399361Z"
    }
   },
   "outputs": [],
   "source": [
    "# Lista vazia para receber as acurácias\n",
    "acuracias = []"
   ]
  },
  {
   "cell_type": "code",
   "execution_count": 32,
   "metadata": {
    "ExecuteTime": {
     "end_time": "2020-11-19T19:18:56.797489Z",
     "start_time": "2020-11-19T19:18:56.462253Z"
    }
   },
   "outputs": [
    {
     "name": "stdout",
     "output_type": "stream",
     "text": [
      "Com valor de k = 1, a acurácia é = 99.21%\n",
      "Com valor de k = 3, a acurácia é = 100.00%\n",
      "Com valor de k = 5, a acurácia é = 100.00%\n",
      "Com valor de k = 7, a acurácia é = 99.21%\n",
      "Com valor de k = 9, a acurácia é = 98.41%\n",
      "Com valor de k = 11, a acurácia é = 98.41%\n",
      "Com valor de k = 13, a acurácia é = 97.62%\n",
      "Com valor de k = 15, a acurácia é = 97.62%\n",
      "Com valor de k = 17, a acurácia é = 97.62%\n",
      "Com valor de k = 19, a acurácia é = 97.62%\n",
      "Com valor de k = 21, a acurácia é = 97.62%\n",
      "Com valor de k = 23, a acurácia é = 97.62%\n",
      "Com valor de k = 25, a acurácia é = 96.83%\n",
      "Com valor de k = 27, a acurácia é = 96.83%\n",
      "Com valor de k = 29, a acurácia é = 96.83%\n"
     ]
    }
   ],
   "source": [
    "# Loop em todos os valores de k para testar cada um deles\n",
    "for k in kVals:\n",
    "    \n",
    "    # Treinando o modelo KNN com cada valor de k\n",
    "    modeloKNN = KNeighborsClassifier(n_neighbors = k)\n",
    "    modeloKNN.fit(treinoData, treinoLabels)\n",
    "          \n",
    "    # Avaliando o modelo e atualizando a lista de acurácias\n",
    "    score = modeloKNN.score(validData, validLabels)\n",
    "    print(\"Com valor de k = %d, a acurácia é = %.2f%%\" % (k, score * 100))\n",
    "    acuracias.append(score)"
   ]
  },
  {
   "cell_type": "code",
   "execution_count": 33,
   "metadata": {
    "ExecuteTime": {
     "end_time": "2020-11-19T19:19:37.313403Z",
     "start_time": "2020-11-19T19:19:37.309988Z"
    }
   },
   "outputs": [
    {
     "name": "stdout",
     "output_type": "stream",
     "text": [
      "O valor de k = 3 alcançou a mais alta acurácia de 100.00% nos dados de validação!\n"
     ]
    }
   ],
   "source": [
    "# Obtendo o valor de k que apresentou a maior acurácia\n",
    "i = np.argmax(acuracias)\n",
    "print(\"O valor de k = %d alcançou a mais alta acurácia de %.2f%% nos dados de validação!\" % (kVals[i], \n",
    "                                                                                             acuracias[i] * 100))"
   ]
  },
  {
   "cell_type": "markdown",
   "metadata": {},
   "source": [
    "## Construção e Treinamento do Modelo KNN"
   ]
  },
  {
   "cell_type": "code",
   "execution_count": 35,
   "metadata": {
    "ExecuteTime": {
     "end_time": "2020-11-19T19:21:21.240793Z",
     "start_time": "2020-11-19T19:21:21.237350Z"
    }
   },
   "outputs": [],
   "source": [
    "# Criando a versão final do modelo com o maior valor de k\n",
    "modeloFinal = KNeighborsClassifier(n_neighbors = kVals[i])"
   ]
  },
  {
   "cell_type": "code",
   "execution_count": 36,
   "metadata": {
    "ExecuteTime": {
     "end_time": "2020-11-19T19:21:49.715950Z",
     "start_time": "2020-11-19T19:21:49.705831Z"
    }
   },
   "outputs": [
    {
     "data": {
      "text/plain": [
       "KNeighborsClassifier(n_neighbors=3)"
      ]
     },
     "execution_count": 36,
     "metadata": {},
     "output_type": "execute_result"
    }
   ],
   "source": [
    "# Treinamento do modelo\n",
    "modeloFinal.fit(treinoData, treinoLabels)"
   ]
  },
  {
   "cell_type": "markdown",
   "metadata": {},
   "source": [
    "## Previsões com Dados de Teste e Avaliação do Modelo"
   ]
  },
  {
   "cell_type": "code",
   "execution_count": 37,
   "metadata": {
    "ExecuteTime": {
     "end_time": "2020-11-19T19:22:14.560596Z",
     "start_time": "2020-11-19T19:22:14.484046Z"
    }
   },
   "outputs": [],
   "source": [
    "# Previsões com os dados de teste\n",
    "predictions = modeloFinal.predict(testeData)"
   ]
  },
  {
   "cell_type": "code",
   "execution_count": 38,
   "metadata": {
    "ExecuteTime": {
     "end_time": "2020-11-19T19:22:20.220820Z",
     "start_time": "2020-11-19T19:22:20.211420Z"
    }
   },
   "outputs": [
    {
     "name": "stdout",
     "output_type": "stream",
     "text": [
      "Avaliação do Modelo nos Dados de Teste\n",
      "              precision    recall  f1-score   support\n",
      "\n",
      "           0       1.00      1.00      1.00        53\n",
      "           1       0.95      0.98      0.96        55\n",
      "           2       1.00      1.00      1.00        49\n",
      "           3       0.98      1.00      0.99        54\n",
      "           4       1.00      0.98      0.99        61\n",
      "           5       0.98      1.00      0.99        59\n",
      "           6       1.00      0.98      0.99        46\n",
      "           7       1.00      1.00      1.00        56\n",
      "           8       1.00      0.95      0.97        59\n",
      "           9       0.98      1.00      0.99        48\n",
      "\n",
      "    accuracy                           0.99       540\n",
      "   macro avg       0.99      0.99      0.99       540\n",
      "weighted avg       0.99      0.99      0.99       540\n",
      "\n"
     ]
    }
   ],
   "source": [
    "# Performande do modelo nos dados de teste\n",
    "print(\"Avaliação do Modelo nos Dados de Teste\")\n",
    "print(classification_report(testeLabels, predictions))"
   ]
  },
  {
   "cell_type": "code",
   "execution_count": 39,
   "metadata": {
    "ExecuteTime": {
     "end_time": "2020-11-19T19:28:17.724071Z",
     "start_time": "2020-11-19T19:28:17.716765Z"
    }
   },
   "outputs": [
    {
     "name": "stdout",
     "output_type": "stream",
     "text": [
      "Confusion matrix\n",
      "[[53  0  0  0  0  0  0  0  0  0]\n",
      " [ 0 54  0  0  0  1  0  0  0  0]\n",
      " [ 0  0 49  0  0  0  0  0  0  0]\n",
      " [ 0  0  0 54  0  0  0  0  0  0]\n",
      " [ 0  0  0  0 60  0  0  0  0  1]\n",
      " [ 0  0  0  0  0 59  0  0  0  0]\n",
      " [ 0  1  0  0  0  0 45  0  0  0]\n",
      " [ 0  0  0  0  0  0  0 56  0  0]\n",
      " [ 0  2  0  1  0  0  0  0 56  0]\n",
      " [ 0  0  0  0  0  0  0  0  0 48]]\n"
     ]
    }
   ],
   "source": [
    "# Confusion Matrix do Modelo Final\n",
    "print (\"Confusion matrix\")\n",
    "print(confusion_matrix(testeLabels, predictions))"
   ]
  },
  {
   "cell_type": "code",
   "execution_count": 41,
   "metadata": {
    "ExecuteTime": {
     "end_time": "2020-11-19T19:30:10.632690Z",
     "start_time": "2020-11-19T19:30:10.086068Z"
    }
   },
   "outputs": [
    {
     "name": "stdout",
     "output_type": "stream",
     "text": [
      "Eu acredito que esse dígito seja: 9\n"
     ]
    },
    {
     "data": {
      "image/png": "[encoded data removed]",
      "text/plain": [
       "<Figure size 432x288 with 1 Axes>"
      ]
     },
     "metadata": {
      "needs_background": "light"
     },
     "output_type": "display_data"
    },
    {
     "name": "stdout",
     "output_type": "stream",
     "text": [
      "Eu acredito que esse dígito seja: 4\n"
     ]
    },
    {
     "data": {
      "image/png": "[encoded data removed]",
      "text/plain": [
       "<Figure size 432x288 with 1 Axes>"
      ]
     },
     "metadata": {
      "needs_background": "light"
     },
     "output_type": "display_data"
    },
    {
     "name": "stdout",
     "output_type": "stream",
     "text": [
      "Eu acredito que esse dígito seja: 7\n"
     ]
    },
    {
     "data": {
      "image/png": "[encoded data removed]",
      "text/plain": [
       "<Figure size 432x288 with 1 Axes>"
      ]
     },
     "metadata": {
      "needs_background": "light"
     },
     "output_type": "display_data"
    },
    {
     "name": "stdout",
     "output_type": "stream",
     "text": [
      "Eu acredito que esse dígito seja: 9\n"
     ]
    },
    {
     "data": {
      "image/png": "[encoded data removed]",
      "text/plain": [
       "<Figure size 432x288 with 1 Axes>"
      ]
     },
     "metadata": {
      "needs_background": "light"
     },
     "output_type": "display_data"
    },
    {
     "name": "stdout",
     "output_type": "stream",
     "text": [
      "Eu acredito que esse dígito seja: 1\n"
     ]
    },
    {
     "data": {
      "image/png": "[encoded data removed]",
      "text/plain": [
       "<Figure size 432x288 with 1 Axes>"
      ]
     },
     "metadata": {
      "needs_background": "light"
     },
     "output_type": "display_data"
    }
   ],
   "source": [
    "# Fazendo previsões com o modelo treinado usando dados de teste\n",
    "for i in np.random.randint(0, high=len(testeLabels), size=(5,)):\n",
    "         \n",
    "    # Obtém uma imagem e faz a previsão\n",
    "    image = testeData[i]\n",
    "    prediction = modeloFinal.predict([image])[0]\n",
    "         \n",
    "    # Mostra as previsões\n",
    "    imgdata = np.array(image, dtype='float')\n",
    "    pixels = imgdata.reshape((8,8))\n",
    "    plt.imshow(pixels,cmap='gray')\n",
    "    plt.annotate(prediction,(3,3),bbox={'facecolor':'white'},fontsize=16)\n",
    "    print(\"Eu acredito que esse dígito seja: {}\".format(prediction))\n",
    "    plt.show()"
   ]
  },
  {
   "cell_type": "code",
   "execution_count": 42,
   "metadata": {
    "ExecuteTime": {
     "end_time": "2020-11-19T19:32:05.568349Z",
     "start_time": "2020-11-19T19:32:05.562899Z"
    }
   },
   "outputs": [],
   "source": [
    "# Definindo um novo dígito (dados de entrada)\n",
    "novoDigito = [0.,  0.,  0.,  8., 15.,  1.,  0.,  0.,  0.,  0.,  0., 12., 14.,\n",
    "              0.,  0.,  0.,  0.,  0.,  3., 16.,  7.,  0.,  0.,  0.,  0.,  0.,\n",
    "              6., 16.,  2.,  0.,  0.,  0.,  0.,  0.,  7., 16., 16., 13.,  5.,\n",
    "              0.,  0.,  0., 15., 16.,  9.,  9., 14.,  0.,  0.,  0.,  3., 14.,\n",
    "              9.,  2., 16.,  2.,  0.,  0.,  0.,  7., 15., 16., 11.,  0.]"
   ]
  },
  {
   "cell_type": "code",
   "execution_count": 43,
   "metadata": {
    "ExecuteTime": {
     "end_time": "2020-11-19T19:32:08.842856Z",
     "start_time": "2020-11-19T19:32:08.840266Z"
    }
   },
   "outputs": [],
   "source": [
    "# Normalizando o novo dígito\n",
    "novoDigito_norm = novoDigito - X_norm"
   ]
  },
  {
   "cell_type": "code",
   "execution_count": 44,
   "metadata": {
    "ExecuteTime": {
     "end_time": "2020-11-19T19:32:27.673014Z",
     "start_time": "2020-11-19T19:32:27.669147Z"
    }
   },
   "outputs": [],
   "source": [
    "# Fazendo a previsão com o modelo treinado\n",
    "novaPrevisao = modeloFinal.predict([novoDigito_norm])"
   ]
  },
  {
   "cell_type": "code",
   "execution_count": 45,
   "metadata": {
    "ExecuteTime": {
     "end_time": "2020-11-19T19:32:31.050596Z",
     "start_time": "2020-11-19T19:32:30.924432Z"
    }
   },
   "outputs": [
    {
     "name": "stdout",
     "output_type": "stream",
     "text": [
      "Eu acredito que esse dígito seja: [6]\n"
     ]
    },
    {
     "data": {
      "image/png": "[encoded data removed]",
      "text/plain": [
       "<Figure size 432x288 with 1 Axes>"
      ]
     },
     "metadata": {
      "needs_background": "light"
     },
     "output_type": "display_data"
    }
   ],
   "source": [
    "# Previsão do modelo\n",
    "imgdata = np.array(novoDigito, dtype='float')\n",
    "pixels = imgdata.reshape((8,8))\n",
    "plt.imshow(pixels, cmap='gray')\n",
    "plt.annotate(novaPrevisao,(3,3), bbox={'facecolor':'white'},fontsize=16)\n",
    "print(\"Eu acredito que esse dígito seja: {}\".format(novaPrevisao))\n",
    "plt.show()"
   ]
  },
  {
   "cell_type": "code",
   "execution_count": null,
   "metadata": {},
   "outputs": [],
   "source": []
  }
 ],
 "metadata": {
  "kernelspec": {
   "display_name": "Python 3",
   "language": "python",
   "name": "python3"
  },
  "language_info": {
   "codemirror_mode": {
    "name": "ipython",
    "version": 3
   },
   "file_extension": ".py",
   "mimetype": "text/x-python",
   "name": "python",
   "nbconvert_exporter": "python",
   "pygments_lexer": "ipython3",
   "version": "3.7.6"
  },
  "toc": {
   "base_numbering": 1,
   "nav_menu": {},
   "number_sections": true,
   "sideBar": true,
   "skip_h1_title": false,
   "title_cell": "Table of Contents",
   "title_sidebar": "Contents",
   "toc_cell": false,
   "toc_position": {},
   "toc_section_display": true,
   "toc_window_display": false
  },
  "varInspector": {
   "cols": {
    "lenName": 16,
    "lenType": 16,
    "lenVar": 40
   },
   "kernels_config": {
    "python": {
     "delete_cmd_postfix": "",
     "delete_cmd_prefix": "del ",
     "library": "var_list.py",
     "varRefreshCmd": "print(var_dic_list())"
    },
    "r": {
     "delete_cmd_postfix": ") ",
     "delete_cmd_prefix": "rm(",
     "library": "var_list.r",
     "varRefreshCmd": "cat(var_dic_list()) "
    }
   },
   "types_to_exclude": [
    "module",
    "function",
    "builtin_function_or_method",
    "instance",
    "_Feature"
   ],
   "window_display": false
  }
 },
 "nbformat": 4,
 "nbformat_minor": 4
}
